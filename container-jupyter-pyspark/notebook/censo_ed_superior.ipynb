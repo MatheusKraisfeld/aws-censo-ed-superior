{
 "cells": [
  {
   "cell_type": "code",
   "execution_count": 1,
   "id": "3d9371f0-49a4-4b70-947b-15057640a358",
   "metadata": {},
   "outputs": [],
   "source": [
    "import csv\n",
    "import os\n",
    "import re\n",
    "from datetime import datetime\n",
    "\n",
    "import pandas as pd\n",
    "import requests\n",
    "import unidecode\n",
    "from bs4 import BeautifulSoup\n",
    "from dateutil.relativedelta import relativedelta\n",
    "import zipfile\n",
    "\n",
    "from requests.packages.urllib3.exceptions import InsecureRequestWarning\n",
    "requests.packages.urllib3.disable_warnings(InsecureRequestWarning)\n",
    "\n",
    "import boto3"
   ]
  },
  {
   "cell_type": "code",
   "execution_count": 3,
   "id": "d0757ab3-9027-4cbe-84b9-b1bc757e0653",
   "metadata": {},
   "outputs": [],
   "source": [
    "s3 = boto3.client('s3')\n",
    "url = 'https://www.gov.br/inep/pt-br/acesso-a-informacao/dados-abertos/microdados/censo-da-educacao-superior'\n",
    "bucket_path = 'aws-censo-ed-superior-censo-ed-superior-landing-741358071637'"
   ]
  },
  {
   "cell_type": "code",
   "execution_count": 4,
   "id": "07c17fec-35be-426b-b0f8-89b1f988dda3",
   "metadata": {},
   "outputs": [],
   "source": [
    "def download_file(url, full_path, chunk_size=128):\n",
    "    \"\"\"\n",
    "    Download file from url to save_path\n",
    "\n",
    "    Parameters\n",
    "    ----------\n",
    "    url : str\n",
    "        \n",
    "\n",
    "    full_path: str\n",
    "        \n",
    "    \n",
    "    chunk_size: str\n",
    "        \n",
    "        \n",
    "    Returns\n",
    "    -------\n",
    "        None\n",
    "    \"\"\"\n",
    "    r = requests.get(url, stream=True, verify=False)\n",
    "    with open(full_path, 'wb') as fd:\n",
    "        for chunk in r.iter_content(chunk_size=chunk_size):\n",
    "            fd.write(chunk)"
   ]
  },
  {
   "cell_type": "code",
   "execution_count": 5,
   "id": "335c2d27-619e-4a80-a17b-bdf61c5c65b5",
   "metadata": {},
   "outputs": [],
   "source": [
    "def download_and_unzip(url, save_path):\n",
    "    \"\"\"\n",
    "    Download and unzip file from url to save_path\n",
    "\n",
    "    Parameters\n",
    "    ----------\n",
    "    url : str\n",
    "        \n",
    "\n",
    "    save_path: str\n",
    "        \n",
    "\n",
    "    Returns\n",
    "    -------\n",
    "        None\n",
    "    \"\"\"\n",
    "    if not os.path.exists(save_path):\n",
    "        os.makedirs(save_path)\n",
    "    head, tail = os.path.split(url)\n",
    "    full_path = f'{save_path}/{tail}'\n",
    "    download_file(url, full_path)\n",
    "    with zipfile.ZipFile(full_path, \"r\") as zip_ref:\n",
    "        dir_path = full_path.replace('.zip', '')\n",
    "        zip_ref.extractall(dir_path)\n",
    "    return dir_path\n"
   ]
  },
  {
   "cell_type": "code",
   "execution_count": 6,
   "id": "d6d3eeae-c4da-4265-b247-d30ad0247674",
   "metadata": {},
   "outputs": [],
   "source": [
    "def get_files(url, file_format='zip' , years_interval=6):\n",
    "    \"\"\"\n",
    "    Get URL from files\n",
    "\n",
    "    Parameters\n",
    "    ----------\n",
    "    url : str\n",
    "        \n",
    "\n",
    "    file_format: str\n",
    "        \n",
    "\n",
    "    years_interval: int\n",
    "        \n",
    "    Returns\n",
    "    -------\n",
    "        - list[str]:\n",
    "        List of file URL's\n",
    "    \"\"\"\n",
    "    r = requests.get(url)\n",
    "    soup = BeautifulSoup(r.content, \"html.parser\")\n",
    "    pattern_to_find = 'microdados_censo_da_educacao_superior'\n",
    "    files = [\n",
    "        i[\"href\"]\n",
    "        for i in soup.find_all(\"a\", href=True)\n",
    "        if i.get(\"href\")\n",
    "        and i[\"href\"].endswith(f\".{file_format}\")\n",
    "        and i[\"href\"].find(pattern_to_find) > -1\n",
    "    ]\n",
    "    return filter_files_by_year(files, years_interval)"
   ]
  },
  {
   "cell_type": "code",
   "execution_count": 7,
   "id": "23ab0c16-b51a-49f8-becd-77f4414df1ad",
   "metadata": {},
   "outputs": [],
   "source": [
    "def filter_files_by_year(files, years_interval):\n",
    "    \"\"\"\n",
    "    Get URL from files\n",
    "\n",
    "    Parameters\n",
    "    ----------\n",
    "    files : list[str]\n",
    "        \n",
    "\n",
    "    years_interval: int\n",
    "        \n",
    "\n",
    "    Returns\n",
    "    -------\n",
    "        list[str]:\n",
    "        List of latest URL files\n",
    "    \"\"\"\n",
    "    years = [int(re.search(\"[0-9]{4}\", year).group(0)) for year in files if re.findall(\"[0-9]{4}\", year)]\n",
    "    range_years = [str(year) for year in range(max(years)-(years_interval-1), max(years)+1)]\n",
    "    selected_files = []\n",
    "    for file in files:\n",
    "        if any(year in file for year in range_years):\n",
    "            selected_files = selected_files + [file]\n",
    "    return selected_files"
   ]
  },
  {
   "cell_type": "code",
   "execution_count": 8,
   "id": "ea5bacea-c9a5-4d11-83dd-45c5e689ce1a",
   "metadata": {},
   "outputs": [],
   "source": [
    "def upload_directory(path, bucketname):\n",
    "    for root, dirs, files in os.walk(path):\n",
    "        for file in files:\n",
    "            dir_path = unidecode.unidecode(root.replace(' ', '_'))\n",
    "            s3.upload_file(os.path.join(root, file), bucketname, dir_path+file)"
   ]
  },
  {
   "cell_type": "code",
   "execution_count": 9,
   "id": "03dba6e1-7cc6-4068-9a11-508c3d69e246",
   "metadata": {},
   "outputs": [],
   "source": [
    "def run():\n",
    "    files = get_files(url)\n",
    "    for file in files:\n",
    "        try:\n",
    "            today = datetime.today()\n",
    "            full_path = download_and_unzip(file, f\"{today.year}_{today.month}\")\n",
    "            # upload_directory(full_path, bucket_path)\n",
    "        except Exception as e:\n",
    "            print(e)"
   ]
  },
  {
   "cell_type": "code",
   "execution_count": 10,
   "id": "8a9c4830-c178-4c08-b4df-ac9bf5f32c13",
   "metadata": {},
   "outputs": [],
   "source": [
    "run()"
   ]
  }
 ],
 "metadata": {
  "kernelspec": {
   "display_name": "Python 3 (ipykernel)",
   "language": "python",
   "name": "python3"
  },
  "language_info": {
   "codemirror_mode": {
    "name": "ipython",
    "version": 3
   },
   "file_extension": ".py",
   "mimetype": "text/x-python",
   "name": "python",
   "nbconvert_exporter": "python",
   "pygments_lexer": "ipython3",
   "version": "3.9.13"
  },
  "vscode": {
   "interpreter": {
    "hash": "97cc609b13305c559618ec78a438abc56230b9381f827f22d070313b9a1f3777"
   }
  }
 },
 "nbformat": 4,
 "nbformat_minor": 5
}
